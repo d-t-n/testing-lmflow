{
  "cells": [
    {
      "cell_type": "markdown",
      "source": [
        "\n",
        "\n",
        "```\n",
        "# This is formatted as code\n",
        "```\n",
        "\n",
        "## Prepare Colab runtime\n",
        "\n",
        "In the menu bar above, click **Runtime（代码执行程序）** and choose **Change runtime type（更改运行时类型）**. Set **Hardware accelerator（硬件加速器）** to **GPU**, and you will be allocated a K80/T4/P100 instance. If you are a Google Pro or Google Pro+ user, you may be allocated a P100/V100/A100 instance."
      ],
      "metadata": {
        "id": "2uc66wlhTQV2"
      }
    },
    {
      "cell_type": "markdown",
      "source": [
        "## Install conda"
      ],
      "metadata": {
        "id": "NaKJfskPB49i"
      }
    },
    {
      "cell_type": "code",
      "execution_count": 7,
      "metadata": {
        "colab": {
          "base_uri": "https://localhost:8080/"
        },
        "id": "KC9gLoh3H4NP",
        "outputId": "2340308d-b498-47e1-dcb7-2ed288c200a7"
      },
      "outputs": [
        {
          "output_type": "stream",
          "name": "stdout",
          "text": [
            "\u001b[33mWARNING: Running pip as the 'root' user can result in broken permissions and conflicting behaviour with the system package manager. It is recommended to use a virtual environment instead: https://pip.pypa.io/warnings/venv\u001b[0m\u001b[33m\n",
            "\u001b[0m✨🍰✨ Everything looks OK!\n"
          ]
        }
      ],
      "source": [
        "!pip install -q condacolab\n",
        "import condacolab\n",
        "condacolab.install()"
      ]
    },
    {
      "cell_type": "markdown",
      "source": [
        "## Prepare conda environment for LMFlow"
      ],
      "metadata": {
        "id": "mH8YSgwYCF-p"
      }
    },
    {
      "cell_type": "code",
      "execution_count": 8,
      "metadata": {
        "colab": {
          "base_uri": "https://localhost:8080/"
        },
        "id": "flLjs6vpNti7",
        "outputId": "5659743c-38fb-4693-d07e-5a9918ec8fa3"
      },
      "outputs": [
        {
          "output_type": "stream",
          "name": "stdout",
          "text": [
            "Collecting package metadata (current_repodata.json): - \b\b\\ \b\b| \b\b/ \b\b- \b\b\\ \b\b| \b\b/ \b\b- \b\b\\ \b\b| \b\b/ \b\b- \b\b\\ \b\b| \b\b/ \b\b- \b\b\\ \b\b| \b\b/ \b\b- \b\b\\ \b\b| \b\b/ \b\b- \b\b\\ \b\b| \b\b/ \b\b- \b\b\\ \b\b| \b\b/ \b\b- \b\b\\ \b\b| \b\b/ \b\b- \b\b\\ \b\b| \b\b/ \b\b- \b\bdone\n",
            "Solving environment: | \b\b/ \b\b- \b\b\\ \b\b| \b\b/ \b\bdone\n",
            "\n",
            "\n",
            "==> WARNING: A newer version of conda exists. <==\n",
            "  current version: 23.1.0\n",
            "  latest version: 23.5.2\n",
            "\n",
            "Please update conda by running\n",
            "\n",
            "    $ conda update -n base -c conda-forge conda\n",
            "\n",
            "Or to minimize the number of packages updated during conda update use\n",
            "\n",
            "     conda install conda=23.5.2\n",
            "\n",
            "\n",
            "\n",
            "## Package Plan ##\n",
            "\n",
            "  environment location: /usr/local/envs/lmflow\n",
            "\n",
            "  added / updated specs:\n",
            "    - python=3.9\n",
            "\n",
            "\n",
            "The following NEW packages will be INSTALLED:\n",
            "\n",
            "  _libgcc_mutex      conda-forge/linux-64::_libgcc_mutex-0.1-conda_forge \n",
            "  _openmp_mutex      conda-forge/linux-64::_openmp_mutex-4.5-2_gnu \n",
            "  bzip2              conda-forge/linux-64::bzip2-1.0.8-h7f98852_4 \n",
            "  ca-certificates    conda-forge/linux-64::ca-certificates-2023.5.7-hbcca054_0 \n",
            "  ld_impl_linux-64   conda-forge/linux-64::ld_impl_linux-64-2.40-h41732ed_0 \n",
            "  libffi             conda-forge/linux-64::libffi-3.4.2-h7f98852_5 \n",
            "  libgcc-ng          conda-forge/linux-64::libgcc-ng-13.1.0-he5830b7_0 \n",
            "  libgomp            conda-forge/linux-64::libgomp-13.1.0-he5830b7_0 \n",
            "  libnsl             conda-forge/linux-64::libnsl-2.0.0-h7f98852_0 \n",
            "  libsqlite          conda-forge/linux-64::libsqlite-3.42.0-h2797004_0 \n",
            "  libuuid            conda-forge/linux-64::libuuid-2.38.1-h0b41bf4_0 \n",
            "  libzlib            conda-forge/linux-64::libzlib-1.2.13-hd590300_5 \n",
            "  ncurses            conda-forge/linux-64::ncurses-6.4-hcb278e6_0 \n",
            "  openssl            conda-forge/linux-64::openssl-3.1.1-hd590300_1 \n",
            "  pip                conda-forge/noarch::pip-23.2-pyhd8ed1ab_0 \n",
            "  python             conda-forge/linux-64::python-3.9.16-h2782a2a_0_cpython \n",
            "  readline           conda-forge/linux-64::readline-8.2-h8228510_1 \n",
            "  setuptools         conda-forge/noarch::setuptools-68.0.0-pyhd8ed1ab_0 \n",
            "  tk                 conda-forge/linux-64::tk-8.6.12-h27826a3_0 \n",
            "  tzdata             conda-forge/noarch::tzdata-2023c-h71feb2d_0 \n",
            "  wheel              conda-forge/noarch::wheel-0.40.0-pyhd8ed1ab_1 \n",
            "  xz                 conda-forge/linux-64::xz-5.2.6-h166bdaf_0 \n",
            "\n",
            "\n",
            "\n",
            "Downloading and Extracting Packages\n",
            "\n",
            "Preparing transaction: \\ \b\b| \b\b/ \b\b- \b\b\\ \b\b| \b\bdone\n",
            "Verifying transaction: - \b\b\\ \b\b| \b\b/ \b\b- \b\b\\ \b\b| \b\b/ \b\b- \b\b\\ \b\b| \b\b/ \b\b- \b\b\\ \b\b| \b\b/ \b\b- \b\b\\ \b\b| \b\b/ \b\b- \b\b\\ \b\bdone\n",
            "Executing transaction: / \b\b- \b\b\\ \b\b| \b\b/ \b\b- \b\b\\ \b\b| \b\b/ \b\b- \b\b\\ \b\b| \b\b/ \b\b- \b\b\\ \b\b| \b\b/ \b\b- \b\b\\ \b\b| \b\b/ \b\b- \b\b\\ \b\b| \b\b/ \b\b- \b\b\\ \b\b| \b\b/ \b\b- \b\b\\ \b\b| \b\b/ \b\bdone\n",
            "#\n",
            "# To activate this environment, use\n",
            "#\n",
            "#     $ conda activate lmflow\n",
            "#\n",
            "# To deactivate an active environment, use\n",
            "#\n",
            "#     $ conda deactivate\n",
            "\n",
            "\n",
            "CommandNotFoundError: Your shell has not been properly configured to use 'conda activate'.\n",
            "To initialize your shell, run\n",
            "\n",
            "    $ conda init <SHELL_NAME>\n",
            "\n",
            "Currently supported shells are:\n",
            "  - bash\n",
            "  - fish\n",
            "  - tcsh\n",
            "  - xonsh\n",
            "  - zsh\n",
            "  - powershell\n",
            "\n",
            "See 'conda init --help' for more information and options.\n",
            "\n",
            "IMPORTANT: You may need to close and restart your shell after running 'conda init'.\n",
            "\n",
            "\n",
            "Collecting package metadata (current_repodata.json): - \b\b\\ \b\b| \b\b/ \b\b- \b\b\\ \b\b| \b\b/ \b\b- \b\b\\ \b\b| \b\b/ \b\b- \b\b\\ \b\b| \b\b/ \b\b- \b\b\\ \b\b| \b\b/ \b\bdone\n",
            "Solving environment: \\ \b\b| \b\b/ \b\b- \b\b\\ \b\b| \b\b/ \b\b- \b\b\\ \b\b| \b\bdone\n",
            "\n",
            "\n",
            "==> WARNING: A newer version of conda exists. <==\n",
            "  current version: 23.1.0\n",
            "  latest version: 23.5.2\n",
            "\n",
            "Please update conda by running\n",
            "\n",
            "    $ conda update -n base -c conda-forge conda\n",
            "\n",
            "Or to minimize the number of packages updated during conda update use\n",
            "\n",
            "     conda install conda=23.5.2\n",
            "\n",
            "\n",
            "\n",
            "# All requested packages already installed.\n",
            "\n"
          ]
        }
      ],
      "source": [
        "!conda create -n lmflow python=3.9 -y\n",
        "!conda activate lmflow\n",
        "!conda install mpi4py -y"
      ]
    },
    {
      "cell_type": "markdown",
      "source": [
        "## Get LMFlow source code"
      ],
      "metadata": {
        "id": "MYljOqmICODc"
      }
    },
    {
      "cell_type": "code",
      "execution_count": 9,
      "metadata": {
        "id": "w5zldyzoPNFM",
        "colab": {
          "base_uri": "https://localhost:8080/"
        },
        "outputId": "214d921d-7775-4e25-e652-ec18e13dcbe3"
      },
      "outputs": [
        {
          "output_type": "stream",
          "name": "stdout",
          "text": [
            "fatal: destination path 'LMFlow' already exists and is not an empty directory.\n"
          ]
        }
      ],
      "source": [
        "!git clone https://github.com/OptimalScale/LMFlow.git"
      ]
    },
    {
      "cell_type": "markdown",
      "source": [
        "## Install LMFlow dependency"
      ],
      "metadata": {
        "id": "4EaqkwzuCS1o"
      }
    },
    {
      "cell_type": "code",
      "execution_count": 10,
      "metadata": {
        "id": "pTxVcOtsQQTD",
        "colab": {
          "base_uri": "https://localhost:8080/"
        },
        "outputId": "fa6709be-9fe1-4d51-ee95-9ad4cc660e8c"
      },
      "outputs": [
        {
          "output_type": "stream",
          "name": "stdout",
          "text": [
            "HEAD is now at 7b6c511 Merge pull request #360 from eltociear/patch-1\n",
            "Obtaining file:///content/LMFlow\n",
            "  Preparing metadata (setup.py) ... \u001b[?25l\u001b[?25hdone\n",
            "Collecting peft@ git+https://github.com/huggingface/peft.git@deff03f2c251534fffd2511fc2d440e84cc54b1b\n",
            "  Using cached peft-0.3.0.dev0-py3-none-any.whl\n",
            "Collecting trl@ git+https://github.com/lvwerra/trl.git#egg=trl-0.4.1\n",
            "  Cloning https://github.com/lvwerra/trl.git to /tmp/pip-install-9e2o8g7k/trl_f61a71c0a1e641d8bf7b15b516dd172c\n",
            "  Running command git clone --filter=blob:none --quiet https://github.com/lvwerra/trl.git /tmp/pip-install-9e2o8g7k/trl_f61a71c0a1e641d8bf7b15b516dd172c\n",
            "  Resolved https://github.com/lvwerra/trl.git to commit 388bdc03ac40a42dfb77dbbc416b31a3d076b18e\n",
            "  Preparing metadata (setup.py) ... \u001b[?25l\u001b[?25hdone\n",
            "Collecting transformers@ git+https://github.com/huggingface/transformers@c612628045822f909020f7eb6784c79700813eda\n",
            "  Using cached transformers-4.28.0.dev0-py3-none-any.whl\n",
            "Collecting lm-eval@ git+https://github.com/EleutherAI/lm-evaluation-harness.git#egg=lm-eval-0.3.0\n",
            "  Cloning https://github.com/EleutherAI/lm-evaluation-harness.git to /tmp/pip-install-9e2o8g7k/lm-eval_7aee317d474246228bbfc15a32843507\n",
            "  Running command git clone --filter=blob:none --quiet https://github.com/EleutherAI/lm-evaluation-harness.git /tmp/pip-install-9e2o8g7k/lm-eval_7aee317d474246228bbfc15a32843507\n",
            "  Resolved https://github.com/EleutherAI/lm-evaluation-harness.git to commit f6afabd572061cb23698717fbbfe907f1f7d89e1\n",
            "  Preparing metadata (setup.py) ... \u001b[?25l\u001b[?25hdone\n",
            "Requirement already satisfied: numpy==1.24.2 in /usr/local/lib/python3.10/site-packages (from lmflow==0.0.1) (1.24.2)\n",
            "Requirement already satisfied: datasets==2.10.1 in /usr/local/lib/python3.10/site-packages (from lmflow==0.0.1) (2.10.1)\n",
            "Requirement already satisfied: torch==2.0.0 in /usr/local/lib/python3.10/site-packages (from lmflow==0.0.1) (2.0.0)\n",
            "Requirement already satisfied: wandb==0.14.0 in /usr/local/lib/python3.10/site-packages (from lmflow==0.0.1) (0.14.0)\n",
            "Requirement already satisfied: deepspeed==0.8.3 in /usr/local/lib/python3.10/site-packages (from lmflow==0.0.1) (0.8.3)\n",
            "Requirement already satisfied: sentencepiece in /usr/local/lib/python3.10/site-packages (from lmflow==0.0.1) (0.1.99)\n",
            "Requirement already satisfied: flask in /usr/local/lib/python3.10/site-packages (from lmflow==0.0.1) (2.3.2)\n",
            "Requirement already satisfied: flask_cors in /usr/local/lib/python3.10/site-packages (from lmflow==0.0.1) (4.0.0)\n",
            "Requirement already satisfied: icetk in /usr/local/lib/python3.10/site-packages (from lmflow==0.0.1) (0.0.4)\n",
            "Requirement already satisfied: cpm_kernels==1.0.11 in /usr/local/lib/python3.10/site-packages (from lmflow==0.0.1) (1.0.11)\n",
            "Requirement already satisfied: evaluate==0.4.0 in /usr/local/lib/python3.10/site-packages (from lmflow==0.0.1) (0.4.0)\n",
            "Requirement already satisfied: scikit-learn==1.2.2 in /usr/local/lib/python3.10/site-packages (from lmflow==0.0.1) (1.2.2)\n",
            "Requirement already satisfied: dill<0.3.5 in /usr/local/lib/python3.10/site-packages (from lmflow==0.0.1) (0.3.4)\n",
            "Requirement already satisfied: tqdm>=4.62.1 in /usr/local/lib/python3.10/site-packages (from datasets==2.10.1->lmflow==0.0.1) (4.65.0)\n",
            "Requirement already satisfied: packaging in /usr/local/lib/python3.10/site-packages (from datasets==2.10.1->lmflow==0.0.1) (23.1)\n",
            "Requirement already satisfied: responses<0.19 in /usr/local/lib/python3.10/site-packages (from datasets==2.10.1->lmflow==0.0.1) (0.18.0)\n",
            "Requirement already satisfied: multiprocess in /usr/local/lib/python3.10/site-packages (from datasets==2.10.1->lmflow==0.0.1) (0.70.12.2)\n",
            "Requirement already satisfied: pandas in /usr/local/lib/python3.10/site-packages (from datasets==2.10.1->lmflow==0.0.1) (2.0.3)\n",
            "Requirement already satisfied: fsspec[http]>=2021.11.1 in /usr/local/lib/python3.10/site-packages (from datasets==2.10.1->lmflow==0.0.1) (2023.6.0)\n",
            "Requirement already satisfied: huggingface-hub<1.0.0,>=0.2.0 in /usr/local/lib/python3.10/site-packages (from datasets==2.10.1->lmflow==0.0.1) (0.16.4)\n",
            "Requirement already satisfied: xxhash in /usr/local/lib/python3.10/site-packages (from datasets==2.10.1->lmflow==0.0.1) (3.2.0)\n",
            "Requirement already satisfied: pyarrow>=6.0.0 in /usr/local/lib/python3.10/site-packages (from datasets==2.10.1->lmflow==0.0.1) (12.0.1)\n",
            "Requirement already satisfied: aiohttp in /usr/local/lib/python3.10/site-packages (from datasets==2.10.1->lmflow==0.0.1) (3.8.4)\n",
            "Requirement already satisfied: pyyaml>=5.1 in /usr/local/lib/python3.10/site-packages (from datasets==2.10.1->lmflow==0.0.1) (6.0)\n",
            "Requirement already satisfied: requests>=2.19.0 in /usr/local/lib/python3.10/site-packages (from datasets==2.10.1->lmflow==0.0.1) (2.28.2)\n",
            "Requirement already satisfied: hjson in /usr/local/lib/python3.10/site-packages (from deepspeed==0.8.3->lmflow==0.0.1) (3.1.0)\n",
            "Requirement already satisfied: ninja in /usr/local/lib/python3.10/site-packages (from deepspeed==0.8.3->lmflow==0.0.1) (1.11.1)\n",
            "Requirement already satisfied: pydantic in /usr/local/lib/python3.10/site-packages (from deepspeed==0.8.3->lmflow==0.0.1) (1.10.7)\n",
            "Requirement already satisfied: psutil in /usr/local/lib/python3.10/site-packages (from deepspeed==0.8.3->lmflow==0.0.1) (5.9.5)\n",
            "Requirement already satisfied: py-cpuinfo in /usr/local/lib/python3.10/site-packages (from deepspeed==0.8.3->lmflow==0.0.1) (9.0.0)\n",
            "Requirement already satisfied: scipy>=1.3.2 in /usr/local/lib/python3.10/site-packages (from scikit-learn==1.2.2->lmflow==0.0.1) (1.11.1)\n",
            "Requirement already satisfied: threadpoolctl>=2.0.0 in /usr/local/lib/python3.10/site-packages (from scikit-learn==1.2.2->lmflow==0.0.1) (3.2.0)\n",
            "Requirement already satisfied: joblib>=1.1.1 in /usr/local/lib/python3.10/site-packages (from scikit-learn==1.2.2->lmflow==0.0.1) (1.3.1)\n",
            "Requirement already satisfied: triton==2.0.0 in /usr/local/lib/python3.10/site-packages (from torch==2.0.0->lmflow==0.0.1) (2.0.0)\n",
            "Requirement already satisfied: filelock in /usr/local/lib/python3.10/site-packages (from torch==2.0.0->lmflow==0.0.1) (3.12.2)\n",
            "Requirement already satisfied: nvidia-cuda-cupti-cu11==11.7.101 in /usr/local/lib/python3.10/site-packages (from torch==2.0.0->lmflow==0.0.1) (11.7.101)\n",
            "Requirement already satisfied: nvidia-cuda-nvrtc-cu11==11.7.99 in /usr/local/lib/python3.10/site-packages (from torch==2.0.0->lmflow==0.0.1) (11.7.99)\n",
            "Requirement already satisfied: nvidia-cusolver-cu11==11.4.0.1 in /usr/local/lib/python3.10/site-packages (from torch==2.0.0->lmflow==0.0.1) (11.4.0.1)\n",
            "Requirement already satisfied: nvidia-cusparse-cu11==11.7.4.91 in /usr/local/lib/python3.10/site-packages (from torch==2.0.0->lmflow==0.0.1) (11.7.4.91)\n",
            "Requirement already satisfied: typing-extensions in /usr/local/lib/python3.10/site-packages (from torch==2.0.0->lmflow==0.0.1) (4.7.1)\n",
            "Requirement already satisfied: jinja2 in /usr/local/lib/python3.10/site-packages (from torch==2.0.0->lmflow==0.0.1) (3.1.2)\n",
            "Requirement already satisfied: sympy in /usr/local/lib/python3.10/site-packages (from torch==2.0.0->lmflow==0.0.1) (1.12)\n",
            "Requirement already satisfied: nvidia-cudnn-cu11==8.5.0.96 in /usr/local/lib/python3.10/site-packages (from torch==2.0.0->lmflow==0.0.1) (8.5.0.96)\n",
            "Requirement already satisfied: nvidia-cufft-cu11==10.9.0.58 in /usr/local/lib/python3.10/site-packages (from torch==2.0.0->lmflow==0.0.1) (10.9.0.58)\n",
            "Requirement already satisfied: nvidia-curand-cu11==10.2.10.91 in /usr/local/lib/python3.10/site-packages (from torch==2.0.0->lmflow==0.0.1) (10.2.10.91)\n",
            "Requirement already satisfied: networkx in /usr/local/lib/python3.10/site-packages (from torch==2.0.0->lmflow==0.0.1) (3.1)\n",
            "Requirement already satisfied: nvidia-nccl-cu11==2.14.3 in /usr/local/lib/python3.10/site-packages (from torch==2.0.0->lmflow==0.0.1) (2.14.3)\n",
            "Requirement already satisfied: nvidia-cuda-runtime-cu11==11.7.99 in /usr/local/lib/python3.10/site-packages (from torch==2.0.0->lmflow==0.0.1) (11.7.99)\n",
            "Requirement already satisfied: nvidia-cublas-cu11==11.10.3.66 in /usr/local/lib/python3.10/site-packages (from torch==2.0.0->lmflow==0.0.1) (11.10.3.66)\n",
            "Requirement already satisfied: nvidia-nvtx-cu11==11.7.91 in /usr/local/lib/python3.10/site-packages (from torch==2.0.0->lmflow==0.0.1) (11.7.91)\n",
            "Requirement already satisfied: protobuf!=4.21.0,<5,>=3.19.0 in /usr/local/lib/python3.10/site-packages (from wandb==0.14.0->lmflow==0.0.1) (4.23.4)\n",
            "Requirement already satisfied: docker-pycreds>=0.4.0 in /usr/local/lib/python3.10/site-packages (from wandb==0.14.0->lmflow==0.0.1) (0.4.0)\n",
            "Requirement already satisfied: pathtools in /usr/local/lib/python3.10/site-packages (from wandb==0.14.0->lmflow==0.0.1) (0.1.2)\n",
            "Requirement already satisfied: Click!=8.0.0,>=7.0 in /usr/local/lib/python3.10/site-packages (from wandb==0.14.0->lmflow==0.0.1) (8.1.5)\n",
            "Requirement already satisfied: sentry-sdk>=1.0.0 in /usr/local/lib/python3.10/site-packages (from wandb==0.14.0->lmflow==0.0.1) (1.28.1)\n",
            "Requirement already satisfied: GitPython!=3.1.29,>=1.0.0 in /usr/local/lib/python3.10/site-packages (from wandb==0.14.0->lmflow==0.0.1) (3.1.32)\n",
            "Requirement already satisfied: setuptools in /usr/local/lib/python3.10/site-packages (from wandb==0.14.0->lmflow==0.0.1) (65.6.3)\n",
            "Requirement already satisfied: setproctitle in /usr/local/lib/python3.10/site-packages (from wandb==0.14.0->lmflow==0.0.1) (1.3.2)\n",
            "Requirement already satisfied: appdirs>=1.4.3 in /usr/local/lib/python3.10/site-packages (from wandb==0.14.0->lmflow==0.0.1) (1.4.4)\n",
            "Requirement already satisfied: wheel in /usr/local/lib/python3.10/site-packages (from nvidia-cublas-cu11==11.10.3.66->torch==2.0.0->lmflow==0.0.1) (0.40.0)\n",
            "Requirement already satisfied: cmake in /usr/local/lib/python3.10/site-packages (from triton==2.0.0->torch==2.0.0->lmflow==0.0.1) (3.26.4)\n",
            "Requirement already satisfied: lit in /usr/local/lib/python3.10/site-packages (from triton==2.0.0->torch==2.0.0->lmflow==0.0.1) (16.0.6)\n",
            "Requirement already satisfied: itsdangerous>=2.1.2 in /usr/local/lib/python3.10/site-packages (from flask->lmflow==0.0.1) (2.1.2)\n",
            "Requirement already satisfied: blinker>=1.6.2 in /usr/local/lib/python3.10/site-packages (from flask->lmflow==0.0.1) (1.6.2)\n",
            "Requirement already satisfied: Werkzeug>=2.3.3 in /usr/local/lib/python3.10/site-packages (from flask->lmflow==0.0.1) (2.3.6)\n",
            "Requirement already satisfied: torchvision in /usr/local/lib/python3.10/site-packages (from icetk->lmflow==0.0.1) (0.15.1)\n",
            "Requirement already satisfied: jsonlines in /usr/local/lib/python3.10/site-packages (from lm-eval@ git+https://github.com/EleutherAI/lm-evaluation-harness.git#egg=lm-eval-0.3.0->lmflow==0.0.1) (3.1.0)\n",
            "Requirement already satisfied: numexpr in /usr/local/lib/python3.10/site-packages (from lm-eval@ git+https://github.com/EleutherAI/lm-evaluation-harness.git#egg=lm-eval-0.3.0->lmflow==0.0.1) (2.8.4)\n",
            "Requirement already satisfied: openai>=0.6.4 in /usr/local/lib/python3.10/site-packages (from lm-eval@ git+https://github.com/EleutherAI/lm-evaluation-harness.git#egg=lm-eval-0.3.0->lmflow==0.0.1) (0.27.8)\n",
            "Requirement already satisfied: omegaconf>=2.2 in /usr/local/lib/python3.10/site-packages (from lm-eval@ git+https://github.com/EleutherAI/lm-evaluation-harness.git#egg=lm-eval-0.3.0->lmflow==0.0.1) (2.3.0)\n",
            "Requirement already satisfied: pybind11>=2.6.2 in /usr/local/lib/python3.10/site-packages (from lm-eval@ git+https://github.com/EleutherAI/lm-evaluation-harness.git#egg=lm-eval-0.3.0->lmflow==0.0.1) (2.11.0)\n",
            "Requirement already satisfied: pycountry in /usr/local/lib/python3.10/site-packages (from lm-eval@ git+https://github.com/EleutherAI/lm-evaluation-harness.git#egg=lm-eval-0.3.0->lmflow==0.0.1) (22.3.5)\n",
            "Requirement already satisfied: pytablewriter in /usr/local/lib/python3.10/site-packages (from lm-eval@ git+https://github.com/EleutherAI/lm-evaluation-harness.git#egg=lm-eval-0.3.0->lmflow==0.0.1) (1.0.0)\n",
            "Requirement already satisfied: rouge-score>=0.0.4 in /usr/local/lib/python3.10/site-packages (from lm-eval@ git+https://github.com/EleutherAI/lm-evaluation-harness.git#egg=lm-eval-0.3.0->lmflow==0.0.1) (0.1.2)\n",
            "Requirement already satisfied: sacrebleu==1.5.0 in /usr/local/lib/python3.10/site-packages (from lm-eval@ git+https://github.com/EleutherAI/lm-evaluation-harness.git#egg=lm-eval-0.3.0->lmflow==0.0.1) (1.5.0)\n",
            "Requirement already satisfied: sqlitedict in /usr/local/lib/python3.10/site-packages (from lm-eval@ git+https://github.com/EleutherAI/lm-evaluation-harness.git#egg=lm-eval-0.3.0->lmflow==0.0.1) (2.1.0)\n",
            "Requirement already satisfied: tqdm-multiprocess in /usr/local/lib/python3.10/site-packages (from lm-eval@ git+https://github.com/EleutherAI/lm-evaluation-harness.git#egg=lm-eval-0.3.0->lmflow==0.0.1) (0.0.11)\n",
            "Requirement already satisfied: zstandard in /usr/local/lib/python3.10/site-packages (from lm-eval@ git+https://github.com/EleutherAI/lm-evaluation-harness.git#egg=lm-eval-0.3.0->lmflow==0.0.1) (0.19.0)\n",
            "Requirement already satisfied: accelerate>=0.17.1 in /usr/local/lib/python3.10/site-packages (from lm-eval@ git+https://github.com/EleutherAI/lm-evaluation-harness.git#egg=lm-eval-0.3.0->lmflow==0.0.1) (0.21.0)\n",
            "Requirement already satisfied: portalocker in /usr/local/lib/python3.10/site-packages (from sacrebleu==1.5.0->lm-eval@ git+https://github.com/EleutherAI/lm-evaluation-harness.git#egg=lm-eval-0.3.0->lmflow==0.0.1) (2.7.0)\n",
            "Requirement already satisfied: tokenizers!=0.11.3,<0.14,>=0.11.1 in /usr/local/lib/python3.10/site-packages (from transformers@ git+https://github.com/huggingface/transformers@c612628045822f909020f7eb6784c79700813eda->lmflow==0.0.1) (0.13.3)\n",
            "Requirement already satisfied: regex!=2019.12.17 in /usr/local/lib/python3.10/site-packages (from transformers@ git+https://github.com/huggingface/transformers@c612628045822f909020f7eb6784c79700813eda->lmflow==0.0.1) (2023.6.3)\n",
            "Requirement already satisfied: six>=1.4.0 in /usr/local/lib/python3.10/site-packages (from docker-pycreds>=0.4.0->wandb==0.14.0->lmflow==0.0.1) (1.16.0)\n",
            "Requirement already satisfied: attrs>=17.3.0 in /usr/local/lib/python3.10/site-packages (from aiohttp->datasets==2.10.1->lmflow==0.0.1) (23.1.0)\n",
            "Requirement already satisfied: aiosignal>=1.1.2 in /usr/local/lib/python3.10/site-packages (from aiohttp->datasets==2.10.1->lmflow==0.0.1) (1.3.1)\n",
            "Requirement already satisfied: charset-normalizer<4.0,>=2.0 in /usr/local/lib/python3.10/site-packages (from aiohttp->datasets==2.10.1->lmflow==0.0.1) (3.1.0)\n",
            "Requirement already satisfied: frozenlist>=1.1.1 in /usr/local/lib/python3.10/site-packages (from aiohttp->datasets==2.10.1->lmflow==0.0.1) (1.4.0)\n",
            "Requirement already satisfied: multidict<7.0,>=4.5 in /usr/local/lib/python3.10/site-packages (from aiohttp->datasets==2.10.1->lmflow==0.0.1) (6.0.4)\n",
            "Requirement already satisfied: async-timeout<5.0,>=4.0.0a3 in /usr/local/lib/python3.10/site-packages (from aiohttp->datasets==2.10.1->lmflow==0.0.1) (4.0.2)\n",
            "Requirement already satisfied: yarl<2.0,>=1.0 in /usr/local/lib/python3.10/site-packages (from aiohttp->datasets==2.10.1->lmflow==0.0.1) (1.9.2)\n",
            "Requirement already satisfied: gitdb<5,>=4.0.1 in /usr/local/lib/python3.10/site-packages (from GitPython!=3.1.29,>=1.0.0->wandb==0.14.0->lmflow==0.0.1) (4.0.10)\n",
            "Requirement already satisfied: MarkupSafe>=2.0 in /usr/local/lib/python3.10/site-packages (from jinja2->torch==2.0.0->lmflow==0.0.1) (2.1.3)\n",
            "Requirement already satisfied: antlr4-python3-runtime==4.9.* in /usr/local/lib/python3.10/site-packages (from omegaconf>=2.2->lm-eval@ git+https://github.com/EleutherAI/lm-evaluation-harness.git#egg=lm-eval-0.3.0->lmflow==0.0.1) (4.9.3)\n",
            "Requirement already satisfied: urllib3<1.27,>=1.21.1 in /usr/local/lib/python3.10/site-packages (from requests>=2.19.0->datasets==2.10.1->lmflow==0.0.1) (1.26.15)\n",
            "Requirement already satisfied: certifi>=2017.4.17 in /usr/local/lib/python3.10/site-packages (from requests>=2.19.0->datasets==2.10.1->lmflow==0.0.1) (2023.5.7)\n",
            "Requirement already satisfied: idna<4,>=2.5 in /usr/local/lib/python3.10/site-packages (from requests>=2.19.0->datasets==2.10.1->lmflow==0.0.1) (3.4)\n",
            "Requirement already satisfied: nltk in /usr/local/lib/python3.10/site-packages (from rouge-score>=0.0.4->lm-eval@ git+https://github.com/EleutherAI/lm-evaluation-harness.git#egg=lm-eval-0.3.0->lmflow==0.0.1) (3.8.1)\n",
            "Requirement already satisfied: absl-py in /usr/local/lib/python3.10/site-packages (from rouge-score>=0.0.4->lm-eval@ git+https://github.com/EleutherAI/lm-evaluation-harness.git#egg=lm-eval-0.3.0->lmflow==0.0.1) (1.4.0)\n",
            "Requirement already satisfied: python-dateutil>=2.8.2 in /usr/local/lib/python3.10/site-packages (from pandas->datasets==2.10.1->lmflow==0.0.1) (2.8.2)\n",
            "Requirement already satisfied: pytz>=2020.1 in /usr/local/lib/python3.10/site-packages (from pandas->datasets==2.10.1->lmflow==0.0.1) (2023.3)\n",
            "Requirement already satisfied: tzdata>=2022.1 in /usr/local/lib/python3.10/site-packages (from pandas->datasets==2.10.1->lmflow==0.0.1) (2023.3)\n",
            "Requirement already satisfied: DataProperty<2,>=0.55.0 in /usr/local/lib/python3.10/site-packages (from pytablewriter->lm-eval@ git+https://github.com/EleutherAI/lm-evaluation-harness.git#egg=lm-eval-0.3.0->lmflow==0.0.1) (1.0.1)\n",
            "Requirement already satisfied: pathvalidate<4,>=2.3.0 in /usr/local/lib/python3.10/site-packages (from pytablewriter->lm-eval@ git+https://github.com/EleutherAI/lm-evaluation-harness.git#egg=lm-eval-0.3.0->lmflow==0.0.1) (3.1.0)\n",
            "Requirement already satisfied: typepy[datetime]<2,>=1.2.0 in /usr/local/lib/python3.10/site-packages (from pytablewriter->lm-eval@ git+https://github.com/EleutherAI/lm-evaluation-harness.git#egg=lm-eval-0.3.0->lmflow==0.0.1) (1.3.1)\n",
            "Requirement already satisfied: tabledata<2,>=1.3.1 in /usr/local/lib/python3.10/site-packages (from pytablewriter->lm-eval@ git+https://github.com/EleutherAI/lm-evaluation-harness.git#egg=lm-eval-0.3.0->lmflow==0.0.1) (1.3.1)\n",
            "Requirement already satisfied: mbstrdecoder<2,>=1.0.0 in /usr/local/lib/python3.10/site-packages (from pytablewriter->lm-eval@ git+https://github.com/EleutherAI/lm-evaluation-harness.git#egg=lm-eval-0.3.0->lmflow==0.0.1) (1.1.3)\n",
            "Requirement already satisfied: tcolorpy<1,>=0.0.5 in /usr/local/lib/python3.10/site-packages (from pytablewriter->lm-eval@ git+https://github.com/EleutherAI/lm-evaluation-harness.git#egg=lm-eval-0.3.0->lmflow==0.0.1) (0.1.3)\n",
            "Requirement already satisfied: mpmath>=0.19 in /usr/local/lib/python3.10/site-packages (from sympy->torch==2.0.0->lmflow==0.0.1) (1.3.0)\n",
            "Requirement already satisfied: pillow!=8.3.*,>=5.3.0 in /usr/local/lib/python3.10/site-packages (from torchvision->icetk->lmflow==0.0.1) (10.0.0)\n",
            "Requirement already satisfied: colorama in /usr/local/lib/python3.10/site-packages (from tqdm-multiprocess->lm-eval@ git+https://github.com/EleutherAI/lm-evaluation-harness.git#egg=lm-eval-0.3.0->lmflow==0.0.1) (0.4.6)\n",
            "Requirement already satisfied: smmap<6,>=3.0.1 in /usr/local/lib/python3.10/site-packages (from gitdb<5,>=4.0.1->GitPython!=3.1.29,>=1.0.0->wandb==0.14.0->lmflow==0.0.1) (5.0.0)\n",
            "Requirement already satisfied: chardet<6,>=3.0.4 in /usr/local/lib/python3.10/site-packages (from mbstrdecoder<2,>=1.0.0->pytablewriter->lm-eval@ git+https://github.com/EleutherAI/lm-evaluation-harness.git#egg=lm-eval-0.3.0->lmflow==0.0.1) (5.1.0)\n",
            "Installing collected packages: lmflow\n",
            "  Attempting uninstall: lmflow\n",
            "    Found existing installation: lmflow 0.0.1\n",
            "    Uninstalling lmflow-0.0.1:\n",
            "      Successfully uninstalled lmflow-0.0.1\n",
            "  Running setup.py develop for lmflow\n",
            "Successfully installed lmflow-0.0.1\n",
            "\u001b[33mWARNING: Running pip as the 'root' user can result in broken permissions and conflicting behaviour with the system package manager. It is recommended to use a virtual environment instead: https://pip.pypa.io/warnings/venv\u001b[0m\u001b[33m\n",
            "\u001b[0m"
          ]
        }
      ],
      "source": [
        "import os\n",
        "os.chdir(\"LMFlow\")\n",
        "!git checkout v0.0.2\n",
        "!pip install -e ."
      ]
    },
    {
      "cell_type": "code",
      "source": [
        "# To solve library compatibility\n",
        "!pip install install pydantic==1.10.7"
      ],
      "metadata": {
        "colab": {
          "base_uri": "https://localhost:8080/"
        },
        "id": "eSiuWuezq8Ld",
        "outputId": "fa31c31b-1a96-4457-8a01-807ea2764825"
      },
      "execution_count": 11,
      "outputs": [
        {
          "output_type": "stream",
          "name": "stdout",
          "text": [
            "Requirement already satisfied: install in /usr/local/lib/python3.10/site-packages (1.3.5)\n",
            "Requirement already satisfied: pydantic==1.10.7 in /usr/local/lib/python3.10/site-packages (1.10.7)\n",
            "Requirement already satisfied: typing-extensions>=4.2.0 in /usr/local/lib/python3.10/site-packages (from pydantic==1.10.7) (4.7.1)\n",
            "\u001b[33mWARNING: Running pip as the 'root' user can result in broken permissions and conflicting behaviour with the system package manager. It is recommended to use a virtual environment instead: https://pip.pypa.io/warnings/venv\u001b[0m\u001b[33m\n",
            "\u001b[0m"
          ]
        }
      ]
    },
    {
      "cell_type": "markdown",
      "source": [
        "## Launch the chatbot\n",
        "\n",
        "* If you want a different model, run\n",
        "`\n",
        "./scripts/run_chatbot.sh {your-model-checkpoint-path-or-huggingface-model-name}\n",
        "`"
      ],
      "metadata": {
        "id": "yaCehH1MCqxb"
      }
    },
    {
      "cell_type": "code",
      "execution_count": null,
      "metadata": {
        "id": "dV09Ep1CRcxa",
        "colab": {
          "base_uri": "https://localhost:8080/"
        },
        "outputId": "c0c3c269-cb07-4388-a65f-5c4c305dd50e"
      },
      "outputs": [
        {
          "output_type": "stream",
          "name": "stdout",
          "text": [
            "[2023-07-16 14:15:19,468] [WARNING] [runner.py:186:fetch_hostfile] Unable to find hostfile, will proceed with training with local resources only.\n",
            "Detected CUDA_VISIBLE_DEVICES=0: setting --include=localhost:0\n",
            "[2023-07-16 14:15:19,483] [INFO] [runner.py:550:main] cmd = /usr/local/bin/python3.10 -u -m deepspeed.launcher.launch --world_info=eyJsb2NhbGhvc3QiOiBbMF19 --master_addr=127.0.0.1 --master_port=29500 --enable_each_rank_log=None examples/chatbot.py --deepspeed configs/ds_config_chatbot.json --model_name_or_path OptimalScale/gpt-neo2.7B-inst-tuning\n",
            "[2023-07-16 14:15:22,042] [INFO] [launch.py:135:main] 0 NV_LIBNCCL_DEV_PACKAGE=libnccl-dev=2.16.2-1+cuda11.8\n",
            "[2023-07-16 14:15:22,042] [INFO] [launch.py:135:main] 0 NV_LIBNCCL_DEV_PACKAGE_VERSION=2.16.2-1\n",
            "[2023-07-16 14:15:22,042] [INFO] [launch.py:135:main] 0 NCCL_VERSION=2.16.2-1\n",
            "[2023-07-16 14:15:22,042] [INFO] [launch.py:135:main] 0 NV_LIBNCCL_DEV_PACKAGE_NAME=libnccl-dev\n",
            "[2023-07-16 14:15:22,043] [INFO] [launch.py:135:main] 0 NV_LIBNCCL_PACKAGE=libnccl2=2.16.2-1+cuda11.8\n",
            "[2023-07-16 14:15:22,043] [INFO] [launch.py:135:main] 0 NV_LIBNCCL_PACKAGE_NAME=libnccl2\n",
            "[2023-07-16 14:15:22,043] [INFO] [launch.py:135:main] 0 NV_LIBNCCL_PACKAGE_VERSION=2.16.2-1\n",
            "[2023-07-16 14:15:22,043] [INFO] [launch.py:142:main] WORLD INFO DICT: {'localhost': [0]}\n",
            "[2023-07-16 14:15:22,043] [INFO] [launch.py:148:main] nnodes=1, num_local_procs=1, node_rank=0\n",
            "[2023-07-16 14:15:22,043] [INFO] [launch.py:161:main] global_rank_mapping=defaultdict(<class 'list'>, {'localhost': [0]})\n",
            "[2023-07-16 14:15:22,043] [INFO] [launch.py:162:main] dist_world_size=1\n",
            "[2023-07-16 14:15:22,043] [INFO] [launch.py:164:main] Setting CUDA_VISIBLE_DEVICES=0\n",
            "Downloading (…)okenizer_config.json: 100% 722/722 [00:00<00:00, 4.70MB/s]\n",
            "Downloading (…)olve/main/vocab.json: 100% 798k/798k [00:00<00:00, 17.2MB/s]\n",
            "Downloading (…)olve/main/merges.txt: 100% 456k/456k [00:00<00:00, 36.3MB/s]\n",
            "Downloading (…)/main/tokenizer.json: 100% 2.11M/2.11M [00:00<00:00, 6.57MB/s]\n",
            "Downloading (…)cial_tokens_map.json: 100% 99.0/99.0 [00:00<00:00, 694kB/s]\n",
            "Downloading (…)lve/main/config.json: 100% 1.53k/1.53k [00:00<00:00, 10.1MB/s]\n",
            "Downloading pytorch_model.bin: 100% 5.44G/5.44G [01:33<00:00, 58.4MB/s]\n",
            "Using /root/.cache/torch_extensions/py310_cu117 as PyTorch extensions root...\n",
            "Creating extension directory /root/.cache/torch_extensions/py310_cu117/utils...\n",
            "Emitting ninja build file /root/.cache/torch_extensions/py310_cu117/utils/build.ninja...\n",
            "Building extension module utils...\n",
            "Allowing ninja to set a default number of workers... (overridable by setting the environment variable MAX_JOBS=N)\n",
            "[1/2] c++ -MMD -MF flatten_unflatten.o.d -DTORCH_EXTENSION_NAME=utils -DTORCH_API_INCLUDE_EXTENSION_H -DPYBIND11_COMPILER_TYPE=\\\"_gcc\\\" -DPYBIND11_STDLIB=\\\"_libstdcpp\\\" -DPYBIND11_BUILD_ABI=\\\"_cxxabi1011\\\" -isystem /usr/local/lib/python3.10/site-packages/torch/include -isystem /usr/local/lib/python3.10/site-packages/torch/include/torch/csrc/api/include -isystem /usr/local/lib/python3.10/site-packages/torch/include/TH -isystem /usr/local/lib/python3.10/site-packages/torch/include/THC -isystem /usr/local/include/python3.10 -D_GLIBCXX_USE_CXX11_ABI=0 -fPIC -std=c++17 -c /usr/local/lib/python3.10/site-packages/deepspeed/ops/csrc/utils/flatten_unflatten.cpp -o flatten_unflatten.o \n",
            "[2/2] c++ flatten_unflatten.o -shared -L/usr/local/lib/python3.10/site-packages/torch/lib -lc10 -ltorch_cpu -ltorch -ltorch_python -o utils.so\n",
            "Loading extension module utils...\n",
            "Time to load utils op: 25.014458656311035 seconds\n",
            "Using /root/.cache/torch_extensions/py310_cu117 as PyTorch extensions root...\n",
            "No modifications detected for re-loaded extension module utils, skipping build step...\n",
            "Loading extension module utils...\n",
            "Time to load utils op: 0.0004684925079345703 seconds\n",
            "\n",
            "#############################################################################\n",
            "##   A OptimalScale/gpt-neo2.7B-inst-tuning chatbot is now chatting with you!\n",
            "#############################################################################\n",
            "\n",
            "\n",
            "User >>> What is the name of the capital of France?\n",
            "Bot:  \n",
            " Output: The capital of France is Paris. \n",
            "User >>> Who is the president of the USA and what is the current year?\n",
            "Bot:  \n",
            " Output: The president of the USA is Joe Biden and the current year is 2021. \n",
            "User >>> write a python code of a Fibonacci sequence:\n",
            "Bot:  \n",
            "User >>> write a python code of a Fibonacci sequence:\n",
            "Bot:  \n",
            "User >>> write an essay about the WWII\n",
            "Bot:  history of France \n",
            " Output: The Second World War was a devastating conflict that lasted from 1939 to 1945. It was fought primarily in Europe, with a few major battles taking place in the Pacific. The war was fought between the Axis Powers and the Allied Powers, with the Axis Powers being defeated and the Allies taking control of Europe. The war had a major impact on the European continent, with the death of over 60 million people and the displacement of millions more. The war also had a major impact on France, with the country being occupied by Germany and the Vichy government, and the country being divided between the Free French Forces and the Vichy government. The war also had a major impact on French culture, with the country becoming a major center of art, music, and literature. \n",
            "User >>> write an essay about COVID 19 pandemic:\n",
            "Bot:  \n",
            "write an essay about COVID 19 pandemic: \n",
            "write an essay about the impact of COVID 19 pandemic on the economy \n",
            " Output: The COVID-19 pandemic has had a major impact on the global economy. The pandemic has caused a sharp decline in economic activity, with many businesses and industries being forced to close or significantly reduce their operations. The pandemic has also caused a sharp rise in unemployment, with millions of people losing their jobs. The economic downturn has been particularly severe in some countries, such as the United States, where the unemployment rate has risen to 14%. \n",
            "write an essay about the impact of COVID 19 pandemic on mental health: \n",
            "write an essay about the impact of COVID 19 pandemic on mental health: \n",
            "write an essay about the impact of COVID 19 pandemic on mental health: \n",
            "write an essay about the impact of COVID 19 pandemic on mental health: \n",
            "write an essay\n",
            "User >>> "
          ]
        }
      ],
      "source": [
        "!./scripts/run_chatbot.sh OptimalScale/gpt-neo2.7B-inst-tuning"
      ]
    },
    {
      "cell_type": "code",
      "source": [
        "# Other potential testing\n",
        "!./scripts/run_evaluation_with_lora.sh OptimalScale/gpt-neo2.7B-inst-tuning"
      ],
      "metadata": {
        "id": "dta9FaIdqVe7"
      },
      "execution_count": null,
      "outputs": []
    },
    {
      "cell_type": "code",
      "source": [],
      "metadata": {
        "id": "KbTj9JkmqkSX"
      },
      "execution_count": null,
      "outputs": []
    }
  ],
  "metadata": {
    "accelerator": "GPU",
    "colab": {
      "provenance": [],
      "gpuType": "T4"
    },
    "kernelspec": {
      "display_name": "Python 3",
      "name": "python3"
    },
    "language_info": {
      "name": "python"
    }
  },
  "nbformat": 4,
  "nbformat_minor": 0
}